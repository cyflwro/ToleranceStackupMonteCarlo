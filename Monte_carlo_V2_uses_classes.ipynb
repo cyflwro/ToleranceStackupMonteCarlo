{
  "nbformat": 4,
  "nbformat_minor": 0,
  "metadata": {
    "colab": {
      "name": "Monte_carlo_V2_uses_classes.ipynb",
      "provenance": [],
      "collapsed_sections": [],
      "authorship_tag": "ABX9TyOyDitZpF1MhYOEgMPxBOnt",
      "include_colab_link": true
    },
    "kernelspec": {
      "name": "python3",
      "display_name": "Python 3"
    }
  },
  "cells": [
    {
      "cell_type": "markdown",
      "metadata": {
        "id": "view-in-github",
        "colab_type": "text"
      },
      "source": [
        "<a href=\"https://colab.research.google.com/github/cyflwro/ToleranceStackupMonteCarlo/blob/master/Monte_carlo_V2_uses_classes.ipynb\" target=\"_parent\"><img src=\"https://colab.research.google.com/assets/colab-badge.svg\" alt=\"Open In Colab\"/></a>"
      ]
    },
    {
      "cell_type": "markdown",
      "metadata": {
        "id": "HW2rcT9ZdN04",
        "colab_type": "text"
      },
      "source": [
        "need to add the following\n",
        "1. cp calculation\n",
        "2. plot individual sets with Upper and Lower limits\n",
        "3. plot sigma lines and mid point based on design limits\n",
        "4. ability to set design limits for final results to ascertain probability of fouling\n",
        "5. able to perform the following user work flow\n",
        "    - specify design limits for each item\n",
        "    - specify type of distribution for each item\n",
        "    - if normally distributed, generate distribution from target cpk\n",
        "    - specify relationship between sets\n",
        "    - run monte carlo analysis\n",
        "    - generate individual distribution chart for each input sets of data\n",
        "    - generate individual distribution chart for monte carlo results \n",
        "\n",
        "need to improve the following\n",
        "1. ability to specify more than 2, preferably 5 sets of distributions \n",
        "  --done with class Dim\n",
        "2. functions are flexible enough to generate between 2-5 sets of data\n",
        "\n"
      ]
    },
    {
      "cell_type": "code",
      "metadata": {
        "id": "ilmOk8UA5D9u",
        "colab_type": "code",
        "colab": {}
      },
      "source": [
        "#def libraries():\n",
        "import random as rd\n",
        "import numpy as np\n",
        "import matplotlib.pyplot as plt"
      ],
      "execution_count": 0,
      "outputs": []
    },
    {
      "cell_type": "code",
      "metadata": {
        "id": "9BQYZiAscUbg",
        "colab_type": "code",
        "colab": {}
      },
      "source": [
        "class Dim():\n",
        "  \"\"\" \n",
        "  holds a Class of engineering dimensions\n",
        "  \"\"\"\n",
        "  def __init__(self,limit1,limit2,p_mean=False,p_sigma=False,cpk=1.33,stats=False):\n",
        "    \"\"\"\n",
        "    initialises a dimension with its required parameters\n",
        "      -lowerlimit & upperlimit are Design limits\n",
        "      -p_mean is process mean\n",
        "      -p sigma is process sigma\n",
        "      -cpk to be calculated from limits and process sigma and mean\n",
        "          -however if process sigma and mean is unknown, then a target cpk should be used\n",
        "            and it will be used to calculate sigma and mean.\n",
        "      -if an input is unknown, enter value as False\n",
        "\n",
        "    limit1 and limit2 will be judge and its value will be used to\n",
        "          create lowerlimit and upperlimit fields\n",
        "\n",
        "    also calculates cp as a field.\n",
        "    in future will add distribution type. for now all distributions are assumed normal.\n",
        "    \"\"\"\n",
        "\n",
        "    if limit1==limit2:\n",
        "      #error placeholder\n",
        "      print('limits must not be equal')\n",
        "    else:\n",
        "      lowerlimit=min(limit1,limit2)\n",
        "      upperlimit=max(limit1,limit2)\n",
        "      self.lowerlimit=lowerlimit\n",
        "      self.upperlimit=upperlimit\n",
        "    self.cpk=cpk\n",
        "\n",
        "    #cases to cover:\n",
        "    if (lowerlimit and upperlimit)!=False:\n",
        "      #case 0: input: limits, p_mean, p_sigma, output: calculates cpk <default cpk value will be discarded>\n",
        "      if (p_mean and p_sigma)!=False:\n",
        "        self.cpk=Dim.cpk(lowerlimit,upperlimit,p_mean,p_sigma)\n",
        "        self.p_mean=p_mean\n",
        "        self.p_sigma=p_sigma\n",
        "\n",
        "      #1. input: limits, p_mean, cpk, output: p_sigma\n",
        "      elif (p_mean!=False and p_sigma==False):\n",
        "        p_sigma=Dim.std_target_if_cpk(cpk,p_mean,lowerlimit,upperlimit)\n",
        "        self.p_sigma=p_sigma\n",
        "        self.p_mean=p_mean\n",
        "\n",
        "      #3. input: limits, cpk, output: p_sigma,p_mean\n",
        "      elif (cpk !=False) and ((p_sigma and p_mean)==False):\n",
        "        p_mean=(lowerlimit+upperlimit)/2\n",
        "        p_sigma=Dim.std_target_if_cpk(cpk,p_mean,lowerlimit,upperlimit)\n",
        "        self.p_sigma=p_sigma\n",
        "        self.p_mean=p_mean\n",
        "\n",
        "      #4. others: error not enough input.\n",
        "      else:\n",
        "        pass #placeholder, should output error\n",
        "    else:\n",
        "      pass #placeholder, should output error because lowerlimt and upper limts must be known.\n",
        "    \n",
        "    self.cp=Dim.cp(lowerlimit,upperlimit,p_sigma)\n",
        "\n",
        "    #print stats for dimension\n",
        "    if stats==True:\n",
        "      Dim.list_dim_field(self)\n",
        "####-------------------------functions under dimension class----------------------------------------------\n",
        "  def cpk(lowerlimit,upperlimit,p_mean,p_std):\n",
        "    \"\"\"\n",
        "    cpk(LowerLimit,UpperLimit,p_mean,p_std)\n",
        "    returns cpk based on design limits, process mean and process standard deviation\n",
        "    \"\"\"\n",
        "    cpl=(p_mean-lowerlimit)/(3*p_std)\n",
        "    cpu=(upperlimit-p_mean)/(3*p_std)\n",
        "    cpk=min(cpl,cpu)\n",
        "    #print('cpk is', round(cpk,2))\n",
        "    return cpk\n",
        "\n",
        "  def std_target_if_cpk(cpk_t,p_mean,lowerlimit,upperlimit):\n",
        "    \"\"\"\n",
        "    std_target_if_cpk(cpk_t,p_mean,lowerlimit,upperlimit)\n",
        "\n",
        "    cpk_t is target Cpk value\n",
        "    p_mean is process mean \n",
        "    lowerlimit is design lower limit\n",
        "    upperlimit is design upper limit\n",
        "    \n",
        "    Gives the std deviation for a target cpk value\n",
        "    this assumes \n",
        "    - standard deviation both sides is calculated, but minimum value is returne\n",
        "    - process mean must be provided\n",
        "    \"\"\"\n",
        "    target_std_1=(p_mean-lowerlimit)/(3*cpk_t)\n",
        "    target_std_2=(upperlimit-p_mean)/(3*cpk_t)\n",
        "    target_std=min(target_std_1,target_std_2)\n",
        "    return target_std\n",
        "\n",
        "  def cp(lowerlimit,upperlimit,p_std):\n",
        "    \"\"\"\n",
        "    Calculates Cp, process capability.\n",
        "    inputs are design lower and upper limits and standard deviation\n",
        "    \"\"\"\n",
        "    cp_set=(upperlimit-lowerlimit)/(6*p_std)\n",
        "    #print('Cp value is ',round(cp_set,2))\n",
        "    return cp_set\n",
        "\n",
        "  def list_dim_field(dim_x):\n",
        "    heading=['Heading','LSL','USL','P_Mean','P_Std_Dev','Cpk','Cp']\n",
        "    list_x=['Values',dim_x.lowerlimit,dim_x.upperlimit,dim_x.p_mean,\n",
        "            round(dim_x.p_sigma,2),round(dim_x.cpk,2),round(dim_x.cp,2)]\n",
        "\n",
        "    for i,j in enumerate(heading):\n",
        "      print(heading[i],\":\",list_x[i])\n",
        "\n",
        "  def gen_dim_set(set_x,sample_size,distro_type='normal',commentary=False):\n",
        "    \"\"\"\n",
        "    a 'Class' based version of \"gen_normal_set\" function\n",
        "    gen_dim_set(set_x,sample_size)\n",
        "    set_x is expected to be a class Dim instance\n",
        "    \n",
        "    distro_type is distribution type, only works with 'normal' in this version.\n",
        "    \n",
        "    needs numpy library to work.\n",
        "\n",
        "    generates a normally distributed set of array given the mean, standard devitaion and sample size\n",
        "    also performs a check if the standard deviation and mean are followed\n",
        "    \"\"\"\n",
        "    a_process=np.random.normal(set_x.p_mean,set_x.p_sigma,sample_size)\n",
        "    \n",
        "    if commentary==True:\n",
        "      print('standard deviation check,', (np.std(a_process)<set_x.p_sigma))\n",
        "      print('mean check,', (np.mean(a_process)-set_x.p_mean)<set_x.p_sigma)\n",
        "    return a_process"
      ],
      "execution_count": 0,
      "outputs": []
    },
    {
      "cell_type": "code",
      "metadata": {
        "colab_type": "code",
        "id": "V3aNzICQzuau",
        "colab": {}
      },
      "source": [
        "def gen_normal_set(p_mean,p_sigma,sample_size):\n",
        "  \"\"\"\n",
        "  gen_normal_set(p_mean,p_sigma,sample_size)\n",
        "  generates a normally distributed set of array given the mean, standard devitaion and sample size\n",
        "  also performs a check if the standard deviation and mean are followed\n",
        "  \"\"\"\n",
        "  a_process=np.random.normal(p_mean,p_sigma,sample_size)\n",
        "  print('standard deviation check,', (np.std(a_process)<p_sigma))\n",
        "  print('mean check,', (np.mean(a_process)-p_mean)<p_sigma)\n",
        "  return a_process"
      ],
      "execution_count": 0,
      "outputs": []
    },
    {
      "cell_type": "code",
      "metadata": {
        "id": "Q9QhdD5Sfivo",
        "colab_type": "code",
        "colab": {}
      },
      "source": [
        "def hist_plot(lowerlimit,upperlimit,set_x,bin_size=20):\n",
        "  \"\"\"\n",
        "  v\n",
        "  plots a normal distribution\n",
        "    againsts, \n",
        "      -normal disitrbution line\n",
        "      -design limits\n",
        "  \n",
        "  \"\"\"\n",
        "  set_std=np.std(set_x)\n",
        "  set_mean=np.mean(set_x)\n",
        "  \n",
        "  count,bins,ignored=plt.hist(set_x,bin_size,density=True)\n",
        "  plt.axvline(set_mean, color='r',ls='--')\n",
        "  plt.plot(bins, 1/(set_std * np.sqrt(2 * np.pi)) *\n",
        "         np.exp( - (bins - set_mean)**2 / (2 * set_std**2) ),\n",
        "         linewidth=2, color='r')\n",
        "\n",
        "\n",
        "\n",
        "  plt.axvline(lowerlimit, color='g')\n",
        "  plt.axvline(upperlimit, color='g') \n",
        "  plt.axvline((upperlimit+lowerlimit)/2,color='g',ls='--')\n",
        "  plt.show\n"
      ],
      "execution_count": 0,
      "outputs": []
    },
    {
      "cell_type": "code",
      "metadata": {
        "id": "gqcIiZsj0LVn",
        "colab_type": "code",
        "colab": {}
      },
      "source": [
        "#calculates percentage of results population that are within 1 standard dev\n",
        "def pop_in_sigma(set,times_sigma=1):\n",
        "  \"\"\"\n",
        "  pop_in_sigma(set,times_sigma=1)\n",
        "  calculates percentage of results population that are within x (default is 1) standard deviation\n",
        "  \"\"\"\n",
        "  limits=[np.mean(set)-(times_sigma*np.std(set)),np.mean(set)+(times_sigma*np.std(set))]\n",
        "  counts=[0,0] #[within sigma,percentage]\n",
        "  for res in set:\n",
        "    if limits[0]<=res<=limits[1]:\n",
        "      counts[0]+=1\n",
        "    else:\n",
        "      pass\n",
        "  set_l=len(set)\n",
        "  counts[1]=round((counts[0]/set_l)*100,2)\n",
        "  print((\"{:,}\".format(counts[1])),'% of population is within standard deviation')\n",
        "  print('out of sigma count=',(\"{:,}\".format(set_l-counts[0])), 'of total population',(\"{:,}\".format(set_l)))"
      ],
      "execution_count": 0,
      "outputs": []
    },
    {
      "cell_type": "code",
      "metadata": {
        "id": "k3E34sqyNX5c",
        "colab_type": "code",
        "colab": {}
      },
      "source": [
        "def pop_in_design_limits(set,lowerlimit,upperlimit):\n",
        "  \"\"\"\n",
        "  Calculates the percentage of population within design limits\n",
        "  \"\"\"\n",
        "  stdev=np.std(set)\n",
        "  counts=[0,0] #[within limits,percentage]\n",
        "  for res in set:\n",
        "    if lowerlimit<=res<=upperlimit:\n",
        "      counts[0]+=1\n",
        "    else:\n",
        "      pass\n",
        "  set_l=len(set)\n",
        "  counts[1]=round((counts[0]/set_l)*100,2)\n",
        "  print((\"{:,}\".format(counts[1])),'% of population is within design limits')\n",
        "  print('out of spec count=',(\"{:,}\".format(set_l-counts[0])), 'of total population',(\"{:,}\".format(set_l)))"
      ],
      "execution_count": 0,
      "outputs": []
    },
    {
      "cell_type": "code",
      "metadata": {
        "id": "MFLGWEH25jF9",
        "colab_type": "code",
        "outputId": "c5a4c4d3-bb3f-4500-bf08-4b823fb86d96",
        "colab": {
          "base_uri": "https://localhost:8080/",
          "height": 51
        }
      },
      "source": [
        "#use this cell to setup dimensions & run for results\n",
        "#example will use 3 sets of dimensions\n",
        "#limit1,limit2,p_mean=False,p_sigma=False,cpk=1.33,stats=False\n",
        "#dimension 'a'\n",
        "dim_a=Dim(9.75,10.25,p_mean=10,p_sigma=0.06)\n",
        "\n",
        "#dimension 'b'\n",
        "dim_b=Dim(2.5,3,p_mean=2.76,cpk=1.23)\n",
        "\n",
        "#dimension 'c'\n",
        "dim_c=Dim(3.3,3.45,p_mean=3.375,p_sigma=0.05)\n",
        "\n",
        "#limits for final results, used in final plot\n",
        "res_dim=Dim(8.8,9.8)\n",
        "\n",
        "#define results and Monte Carlo Runs\n",
        "#histogram bin quantity \n",
        "hist_bins=50\n",
        "\n",
        "sample_size=150000 #for input distributions\n",
        "mon_carlo_runs=10000\n",
        "\n",
        "#generate test population\n",
        "set_a=Dim.gen_dim_set(dim_a,sample_size)\n",
        "set_b=Dim.gen_dim_set(dim_b,sample_size)\n",
        "set_c=Dim.gen_dim_set(dim_c,sample_size)\n",
        "\n",
        "\n",
        "#generate monte carlo results\n",
        "result_set=[]\n",
        "i=0\n",
        "while i<mon_carlo_runs:\n",
        "  #a+b-c = result\n",
        "  result_set.append(rd.choice(set_a)+rd.choice(set_b)-rd.choice(set_c))\n",
        "  i+=1\n",
        "result_mean=np.mean(result_set)\n",
        "result_sigma=np.std(result_set)\n",
        "print('result mean', result_mean)\n",
        "print('result sigma',result_sigma)"
      ],
      "execution_count": 0,
      "outputs": [
        {
          "output_type": "stream",
          "text": [
            "result mean 9.384715487064502\n",
            "result sigma 0.10051693408459277\n"
          ],
          "name": "stdout"
        }
      ]
    },
    {
      "cell_type": "code",
      "metadata": {
        "id": "0icacpw32veG",
        "colab_type": "code",
        "outputId": "61a20fc7-39dd-482e-db2d-786613d73acc",
        "colab": {
          "base_uri": "https://localhost:8080/",
          "height": 265
        }
      },
      "source": [
        "#plots\n",
        "#plot histograms of input populations\n",
        "#hist_plot(dim_a.lowerlimit,dim_a.upperlimit,set_a,bin_size=hist_bins)\n",
        "#hist_plot(dim_b.lowerlimit,dim_b.upperlimit,set_b,bin_size=hist_bins)\n",
        "hist_plot(dim_c.lowerlimit,dim_c.upperlimit,set_c,bin_size=hist_bins)"
      ],
      "execution_count": 0,
      "outputs": [
        {
          "output_type": "display_data",
          "data": {
            "image/png": "[encoded data removed]",
            "text/plain": [
              "<Figure size 432x288 with 1 Axes>"
            ]
          },
          "metadata": {
            "tags": []
          }
        }
      ]
    },
    {
      "cell_type": "code",
      "metadata": {
        "id": "mcjD2cPl3Aae",
        "colab_type": "code",
        "outputId": "c23be060-21f9-4f83-dc92-112e48594d37",
        "colab": {
          "base_uri": "https://localhost:8080/",
          "height": 265
        }
      },
      "source": [
        "#plots\n",
        "#plot results\n",
        "hist_plot(res_dim.lowerlimit,res_dim.upperlimit,result_set,bin_size=hist_bins)"
      ],
      "execution_count": 0,
      "outputs": [
        {
          "output_type": "display_data",
          "data": {
            "image/png": "[encoded data removed]",
            "text/plain": [
              "<Figure size 432x288 with 1 Axes>"
            ]
          },
          "metadata": {
            "tags": []
          }
        }
      ]
    },
    {
      "cell_type": "code",
      "metadata": {
        "id": "XC4KOpyeCZFH",
        "colab_type": "code",
        "outputId": "77b1fb5c-4e2e-443e-8617-35f86ceac233",
        "colab": {
          "base_uri": "https://localhost:8080/",
          "height": 102
        }
      },
      "source": [
        "#worst case for monte carlo analysis\n",
        "print('Monte Carlo Analysis')\n",
        "print('min = ',round(min(result_set),2))\n",
        "print('Max = ',round(max(result_set),2))\n",
        "print('Mean = ',round(np.mean(result_set),2))\n",
        "print('Std dev = ',round(np.std(result_set),2))\n"
      ],
      "execution_count": 0,
      "outputs": [
        {
          "output_type": "stream",
          "text": [
            "Monte Carlo Analysis\n",
            "min =  9.03\n",
            "Max =  9.8\n",
            "Mean =  9.38\n",
            "Std dev =  0.1\n"
          ],
          "name": "stdout"
        }
      ]
    },
    {
      "cell_type": "code",
      "metadata": {
        "id": "iP1Q2QCF2c7x",
        "colab_type": "code",
        "outputId": "4a6d8744-b9db-43b1-f8d2-aa02d43337fb",
        "colab": {
          "base_uri": "https://localhost:8080/",
          "height": 289
        }
      },
      "source": [
        "pop_in_sigma(set_a,1)\n",
        "pop_in_design_limits(set_a,dim_a.lowerlimit,dim_a.upperlimit)\n",
        "pop_in_sigma(set_b,1)\n",
        "pop_in_design_limits(set_b,dim_b.lowerlimit,dim_b.upperlimit)\n",
        "pop_in_sigma(set_c,1)\n",
        "pop_in_design_limits(set_c,dim_c.lowerlimit,dim_c.upperlimit)\n",
        "pop_in_sigma(result_set,1)\n",
        "pop_in_design_limits(result_set,res_dim.lowerlimit,res_dim.upperlimit)"
      ],
      "execution_count": 0,
      "outputs": [
        {
          "output_type": "stream",
          "text": [
            "68.42 % of population is within standard deviation\n",
            "out of sigma count= 47,377 of total population 150,000\n",
            "100.0 % of population is within design limits\n",
            "out of spec count= 6 of total population 150,000\n",
            "68.34 % of population is within standard deviation\n",
            "out of sigma count= 47,484 of total population 150,000\n",
            "99.98 % of population is within design limits\n",
            "out of spec count= 33 of total population 150,000\n",
            "68.29 % of population is within standard deviation\n",
            "out of sigma count= 47,561 of total population 150,000\n",
            "86.61 % of population is within design limits\n",
            "out of spec count= 20,089 of total population 150,000\n",
            "68.1 % of population is within standard deviation\n",
            "out of sigma count= 3,190 of total population 10,000\n",
            "100.0 % of population is within design limits\n",
            "out of spec count= 0 of total population 10,000\n"
          ],
          "name": "stdout"
        }
      ]
    },
    {
      "cell_type": "markdown",
      "metadata": {
        "id": "D_qAVpYy2eq3",
        "colab_type": "text"
      },
      "source": [
        "24.02.2020 \n",
        "progress to this point, below which contains older codes.\n",
        "older codes only work assuming A+B\n"
      ]
    },
    {
      "cell_type": "code",
      "metadata": {
        "id": "tU3mkXssBL2-",
        "colab_type": "code",
        "outputId": "38f84c94-89b1-4642-ccb0-2180dd20b60e",
        "colab": {
          "base_uri": "https://localhost:8080/",
          "height": 85
        }
      },
      "source": [
        "#worst case analysis, for set_a + set_b\n",
        "#worst_case for set_a\n",
        "wst_a_h=p_mean+p_sigma\n",
        "wst_a_l=p_mean-p_sigma\n",
        "wst_a=[round(wst_a_l,2),round(wst_a_h,2)]\n",
        "#worst_case for set_b\n",
        "wst_b_h=p_mean_2+p_sigma_2\n",
        "wst_b_l=p_mean_2-p_sigma_2\n",
        "wst_b=[round(wst_b_l,2),round(wst_b_h,2)]\n",
        "\n",
        "#worst case when a+b\n",
        "wst_r=[max(wst_a)+max(wst_b),min(wst_a)+min(wst_b)]\n",
        "\n",
        "#norminal\n",
        "nom_r=p_mean+p_mean_2\n",
        "\n",
        "print('Worst Case Analysis')\n",
        "print('min = ',wst_r[1])\n",
        "print('Max = ',wst_r[0])\n",
        "print('Nominal = ',nom_r)\n"
      ],
      "execution_count": 0,
      "outputs": [
        {
          "output_type": "stream",
          "text": [
            "Worst Case Analysis\n",
            "min =  12.59\n",
            "Max =  12.81\n",
            "Nominal =  12.7\n"
          ],
          "name": "stdout"
        }
      ]
    }
  ]
}